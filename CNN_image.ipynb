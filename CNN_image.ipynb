{
 "cells": [
  {
   "cell_type": "code",
   "execution_count": 27,
   "metadata": {},
   "outputs": [
    {
     "name": "stdout",
     "output_type": "stream",
     "text": [
      "2.0.0\n"
     ]
    }
   ],
   "source": [
    "# TensorFlow and tf.keras\n",
    "\n",
    "import tensorflow as tf\n",
    "\n",
    "from tensorflow import keras\n",
    "from tensorflow.keras import layers\n",
    "from tensorflow.keras import models\n",
    "import tensorflow.keras.utils\n",
    "import pandas as pd\n",
    "\n",
    "# import keras\n",
    "# import keras.backend\n",
    "# from keras import layers\n",
    "# from keras import models\n",
    "# import keras.utils\n",
    "\n",
    "print(tf.__version__)\n",
    "\n",
    "# Helper libraries\n",
    "import numpy as np\n",
    "import matplotlib.pyplot as plt\n",
    "from matplotlib.colors import LogNorm\n",
    "import math\n",
    "import time\n",
    "import h5py\n",
    "import sklearn\n",
    "from sklearn.utils import shuffle\n",
    "\n",
    "import os"
   ]
  },
  {
   "cell_type": "markdown",
   "metadata": {},
   "source": [
    "## Import data"
   ]
  },
  {
   "cell_type": "code",
   "execution_count": 30,
   "metadata": {
    "scrolled": true
   },
   "outputs": [
    {
     "name": "stdout",
     "output_type": "stream",
     "text": [
      "16540 16540 16540 49620\n"
     ]
    }
   ],
   "source": [
    "data = np.load('/mnt/data/ml/ShowJetsData1.npz')\n",
    "# !ls /mnt/data/ml/\n",
    "images = data['jetImages']\n",
    "labels = data['labels']\n",
    "grid = np.size(images, 1)\n",
    "#ensure same number of signal vs. background and even split of z events\n",
    "qcd_im = images[np.where(labels[:,0] == 1)]\n",
    "if len(qcd_im) % 3 != 0:\n",
    "    qcd_im = qcd_im[:len(qcd_im)-(len(qcd_im) % 3)]\n",
    "z1_im = images[np.where(labels[:,1] == 1)]\n",
    "z1_im = z1_im[:int(len(qcd_im)/3)]\n",
    "z2_im = images[np.where(labels[:,2] == 1)]\n",
    "z2_im = z2_im[:int(len(qcd_im)/3)]\n",
    "z3_im = images[np.where(labels[:,3] == 1)]\n",
    "z3_im = z3_im[:int(len(qcd_im)/3)]\n",
    "print(len(z1_im), len(z2_im), len(z3_im), len(qcd_im))\n",
    "qcd_lab = np.zeros([len(qcd_im), 2])\n",
    "qcd_lab[:,0] = 1\n",
    "z_lab = np.zeros([len(qcd_im), 2])\n",
    "z_lab[:,1] = 1\n",
    "images = np.vstack((qcd_im, z1_im, z2_im, z3_im))\n",
    "labels = np.vstack((qcd_lab, z_lab))\n",
    "n_data = len(images)\n",
    "images = images.reshape(n_data, grid, grid, 1)\n",
    "#split data into testing/training/validation\n",
    "\n",
    "testimages = images[::4]\n",
    "testlabels = labels[::4]\n",
    "mask_im = np.ones(images.shape,dtype=bool)\n",
    "mask_im[::4] = 0\n",
    "mask_im[1::8] = 0\n",
    "mask_lab = np.ones(labels.shape,dtype=bool)\n",
    "mask_lab[::4] = 0\n",
    "mask_lab[1::8] = 0\n",
    "valimages = images[1::8]\n",
    "vallabels = labels[1::8]\n",
    "\n",
    "trainimages = images[mask_im].reshape((n_data-len(testimages)-len(valimages)), grid, grid, 1)\n",
    "trainlabels = labels[mask_lab].reshape((n_data-len(testimages)-len(valimages)), 2)"
   ]
  },
  {
   "cell_type": "markdown",
   "metadata": {},
   "source": [
    "Print a plot of data to see what it looks like!"
   ]
  },
  {
   "cell_type": "markdown",
   "metadata": {},
   "source": [
    "Preprocessing -> spit data into training and testing; take 80% for training and 20% for testing.\n",
    "\n",
    "If using CNN, uncomment \".reshape(n_data, grid, grid, 1)\"."
   ]
  },
  {
   "cell_type": "code",
   "execution_count": 31,
   "metadata": {},
   "outputs": [
    {
     "data": {
      "image/png": "[encoded data removed]",
      "text/plain": [
       "<Figure size 432x288 with 2 Axes>"
      ]
     },
     "metadata": {
      "needs_background": "light"
     },
     "output_type": "display_data"
    }
   ],
   "source": [
    "#plot input signal and background\n",
    "sig_trainimages = np.zeros_like(trainimages[1])\n",
    "bkg_trainimages = np.zeros_like(trainimages[1])\n",
    "for i in range(len(trainimages)):\n",
    "    if trainlabels[i,0] == 1:\n",
    "        sig_trainimages += trainimages[i]\n",
    "    else:\n",
    "        bkg_trainimages += trainimages[i]\n",
    "display_sig = sig_trainimages.reshape(grid,grid)\n",
    "plt.grid(False)\n",
    "plt.imshow(display_sig, interpolation='nearest', origin='low', cmap = 'jet', norm=LogNorm())\n",
    "plt.colorbar()\n",
    "plt.show()"
   ]
  },
  {
   "cell_type": "markdown",
   "metadata": {},
   "source": [
    "Build DNN:"
   ]
  },
  {
   "cell_type": "code",
   "execution_count": 32,
   "metadata": {},
   "outputs": [
    {
     "data": {
      "image/png": "[encoded data removed]",
      "text/plain": [
       "<Figure size 432x288 with 2 Axes>"
      ]
     },
     "metadata": {
      "needs_background": "light"
     },
     "output_type": "display_data"
    }
   ],
   "source": [
    "#background\n",
    "display_bkg = bkg_trainimages.reshape(grid,grid)\n",
    "plt.grid(False)\n",
    "plt.imshow(display_bkg, interpolation='nearest', origin='low', cmap = 'jet', norm=LogNorm())\n",
    "plt.colorbar()\n",
    "plt.show()"
   ]
  },
  {
   "cell_type": "code",
   "execution_count": 33,
   "metadata": {},
   "outputs": [],
   "source": [
    "def build_model():\n",
    "    input1 = layers.Input(shape = (grid, grid, 1))\n",
    "    x = layers.Conv2D(64, (12, 12), padding = 'same', activation='relu')(input1)\n",
    "    x = layers.Conv2D(64, (6, 6), padding = 'same', activation='relu')(x)\n",
    "    x = layers.Conv2D(64, (4, 4), padding = 'same', activation='relu')(x)\n",
    "    x = layers.MaxPool2D((2, 2))(x)\n",
    "    x = layers.Conv2D(32, (4, 4), padding = 'same', activation='relu')(x)\n",
    "    x = layers.Conv2D(32, (3, 3), padding = 'same', activation='relu')(x)\n",
    "    x = layers.Conv2D(32, (2, 2), padding = 'same', activation='relu')(x)\n",
    "    x = layers.MaxPool2D((2, 2))(x)\n",
    "#     x = layers.Conv2D(32, (6, 6), padding = 'same', activation='relu')(x)\n",
    "#     x = layers.Conv2D(32, (4, 4), padding = 'same', activation='relu')(x)\n",
    "#     x = layers.Conv2D(32, (4, 4), padding = 'same', activation='relu')(x)\n",
    "#     x = layers.MaxPool2D((2, 2))(x)\n",
    "    x = layers.Flatten()(x)\n",
    "#     input2 = layers.Input(shape=(1,))\n",
    "#     input3 = layers.Input(shape=(2,))\n",
    "#     input4 = layers.Input(shape=(1,))\n",
    "#     x = layers.concatenate(inputs = [x1, input2, input3, input4],axis=-1)\n",
    "    x = layers.Dense(64, activation=tf.nn.relu)(x)\n",
    "    x = layers.Dense(256, activation=tf.nn.relu)(x)\n",
    "    x = layers.Dense(256, activation=tf.nn.relu)(x)\n",
    "    output = layers.Dense(2, activation=tf.nn.softmax)(x)\n",
    "    model = models.Model(inputs=input1, outputs=output)\n",
    "    model.compile(loss='categorical_crossentropy',\n",
    "                optimizer='adam',\n",
    "                metrics=['categorical_crossentropy', 'accuracy'])\n",
    "    return model"
   ]
  },
  {
   "cell_type": "markdown",
   "metadata": {},
   "source": [
    "Initialize model:"
   ]
  },
  {
   "cell_type": "code",
   "execution_count": 34,
   "metadata": {},
   "outputs": [],
   "source": [
    "CNN = build_model()"
   ]
  },
  {
   "cell_type": "markdown",
   "metadata": {},
   "source": [
    "Test model's prediction $before$ training:"
   ]
  },
  {
   "cell_type": "code",
   "execution_count": 35,
   "metadata": {},
   "outputs": [
    {
     "name": "stdout",
     "output_type": "stream",
     "text": [
      "[[0.4997265  0.5002736 ]\n",
      " [0.4997444  0.50025564]\n",
      " [0.4997691  0.50023097]\n",
      " [0.4997054  0.5002946 ]\n",
      " [0.49973935 0.50026065]\n",
      " [0.49976456 0.5002355 ]\n",
      " [0.49975953 0.50024045]\n",
      " [0.49972975 0.50027025]\n",
      " [0.49980026 0.50019974]\n",
      " [0.49980047 0.5001995 ]\n",
      " [0.4997285  0.5002715 ]\n",
      " [0.49982148 0.5001785 ]\n",
      " [0.49974936 0.5002507 ]\n",
      " [0.49979833 0.50020164]\n",
      " [0.49978888 0.5002111 ]\n",
      " [0.49976793 0.50023204]\n",
      " [0.4996286  0.50037146]\n",
      " [0.49986967 0.5001304 ]\n",
      " [0.49980995 0.5001901 ]\n",
      " [0.49980724 0.5001927 ]\n",
      " [0.49977833 0.5002217 ]\n",
      " [0.49966908 0.500331  ]\n",
      " [0.49990472 0.50009525]\n",
      " [0.49988413 0.5001159 ]\n",
      " [0.49979594 0.50020397]\n",
      " [0.49977213 0.50022787]\n",
      " [0.49975228 0.5002477 ]\n",
      " [0.49980715 0.5001928 ]\n",
      " [0.4996868  0.5003132 ]\n",
      " [0.4996746  0.50032544]\n",
      " [0.49973193 0.50026804]\n",
      " [0.49978033 0.5002197 ]\n",
      " [0.49982262 0.50017744]\n",
      " [0.49968886 0.5003111 ]\n",
      " [0.49967963 0.5003203 ]\n",
      " [0.49967253 0.50032747]\n",
      " [0.49968207 0.50031793]\n",
      " [0.49976426 0.50023574]\n",
      " [0.49973968 0.50026035]\n",
      " [0.49977377 0.50022626]\n",
      " [0.4996866  0.50031334]\n",
      " [0.499674   0.50032604]\n",
      " [0.49981058 0.50018936]\n",
      " [0.49978206 0.50021803]\n",
      " [0.49978468 0.50021535]\n",
      " [0.49970695 0.500293  ]\n",
      " [0.49969816 0.50030184]\n",
      " [0.4997764  0.50022364]\n",
      " [0.49968064 0.5003193 ]\n",
      " [0.49982327 0.5001767 ]\n",
      " [0.49963057 0.5003694 ]\n",
      " [0.4996408  0.50035924]\n",
      " [0.4997732  0.5002268 ]\n",
      " [0.49981388 0.5001861 ]\n",
      " [0.49981377 0.5001862 ]\n",
      " [0.4998105  0.5001895 ]\n",
      " [0.4997546  0.50024545]\n",
      " [0.49972856 0.5002714 ]\n",
      " [0.4997146  0.50028545]\n",
      " [0.49979874 0.5002012 ]\n",
      " [0.4997287  0.5002712 ]\n",
      " [0.4997769  0.50022316]\n",
      " [0.4997556  0.5002444 ]\n",
      " [0.49979776 0.5002022 ]\n",
      " [0.49969748 0.5003025 ]\n",
      " [0.4997359  0.5002641 ]\n",
      " [0.49967888 0.5003211 ]\n",
      " [0.49971274 0.5002873 ]\n",
      " [0.49975544 0.5002446 ]\n",
      " [0.4998476  0.5001524 ]\n",
      " [0.49975428 0.5002457 ]\n",
      " [0.49982795 0.5001721 ]\n",
      " [0.49983644 0.50016356]\n",
      " [0.4997463  0.50025374]\n",
      " [0.49986467 0.50013536]\n",
      " [0.49972928 0.50027066]\n",
      " [0.49967676 0.5003233 ]\n",
      " [0.49983844 0.5001616 ]\n",
      " [0.49975148 0.5002485 ]\n",
      " [0.49975985 0.50024015]\n",
      " [0.499668   0.50033206]\n",
      " [0.4997468  0.5002532 ]\n",
      " [0.49969164 0.50030833]\n",
      " [0.49979594 0.50020397]\n",
      " [0.4998097  0.5001903 ]\n",
      " [0.4997671  0.5002329 ]\n",
      " [0.49981868 0.5001813 ]\n",
      " [0.4997288  0.50027114]\n",
      " [0.4996679  0.50033206]\n",
      " [0.49975088 0.5002491 ]\n",
      " [0.49971065 0.5002893 ]\n",
      " [0.49975783 0.5002422 ]\n",
      " [0.4997899  0.5002101 ]\n",
      " [0.4997543  0.50024575]\n",
      " [0.49982876 0.5001712 ]\n",
      " [0.49973887 0.5002611 ]\n",
      " [0.49969056 0.50030947]\n",
      " [0.4998243  0.5001757 ]\n",
      " [0.4997168  0.5002832 ]\n",
      " [0.49976042 0.50023955]\n",
      " [0.49972215 0.50027794]\n",
      " [0.49976006 0.5002399 ]\n",
      " [0.49974793 0.500252  ]\n",
      " [0.4997596  0.5002403 ]\n",
      " [0.49972284 0.50027716]\n",
      " [0.49964768 0.50035226]\n",
      " [0.49966705 0.500333  ]\n",
      " [0.4997989  0.5002011 ]\n",
      " [0.49972618 0.5002738 ]\n",
      " [0.49977088 0.5002292 ]\n",
      " [0.499707   0.50029296]\n",
      " [0.49976692 0.50023305]\n",
      " [0.49962428 0.50037575]\n",
      " [0.4997328  0.5002672 ]\n",
      " [0.49981937 0.50018066]\n",
      " [0.49967352 0.5003266 ]\n",
      " [0.49972165 0.5002784 ]\n",
      " [0.49957922 0.50042075]\n",
      " [0.49978948 0.50021046]\n",
      " [0.4997136  0.5002864 ]\n",
      " [0.49965015 0.5003498 ]\n",
      " [0.49968672 0.5003132 ]\n",
      " [0.49975476 0.5002453 ]\n",
      " [0.49962726 0.5003727 ]\n",
      " [0.49976027 0.5002397 ]\n",
      " [0.4996792  0.50032073]\n",
      " [0.4997342  0.50026584]\n",
      " [0.49975988 0.5002401 ]\n",
      " [0.49966767 0.5003323 ]\n",
      " [0.49979186 0.50020814]\n",
      " [0.4997347  0.5002653 ]\n",
      " [0.4997674  0.50023264]\n",
      " [0.4997336  0.5002663 ]\n",
      " [0.4997981  0.50020194]\n",
      " [0.49975795 0.50024205]\n",
      " [0.4997169  0.50028306]\n",
      " [0.49977386 0.5002262 ]\n",
      " [0.49969652 0.5003035 ]\n",
      " [0.4996912  0.50030875]\n",
      " [0.49966934 0.5003306 ]\n",
      " [0.49978212 0.500218  ]\n",
      " [0.49975976 0.50024027]\n",
      " [0.49963543 0.5003645 ]\n",
      " [0.49972326 0.5002768 ]\n",
      " [0.4996231  0.50037694]\n",
      " [0.49973097 0.500269  ]\n",
      " [0.49985185 0.5001481 ]\n",
      " [0.4995621  0.50043786]\n",
      " [0.49967128 0.5003288 ]\n",
      " [0.49970728 0.5002927 ]\n",
      " [0.49965432 0.50034565]\n",
      " [0.4996932  0.5003067 ]\n",
      " [0.4998174  0.50018257]\n",
      " [0.49977407 0.50022596]\n",
      " [0.49976203 0.50023794]\n",
      " [0.49980792 0.5001921 ]\n",
      " [0.49968398 0.50031596]\n",
      " [0.49973747 0.50026256]\n",
      " [0.49970517 0.50029486]\n",
      " [0.4996991  0.5003009 ]\n",
      " [0.4995864  0.50041366]\n",
      " [0.49973202 0.500268  ]\n",
      " [0.49978817 0.5002119 ]\n",
      " [0.49977723 0.5002228 ]\n",
      " [0.4997705  0.5002295 ]\n",
      " [0.4997423  0.50025773]\n",
      " [0.4997117  0.5002883 ]\n",
      " [0.49976063 0.5002394 ]\n",
      " [0.49972925 0.50027066]\n",
      " [0.499712   0.500288  ]\n",
      " [0.49973878 0.5002612 ]\n",
      " [0.4996853  0.5003147 ]\n",
      " [0.4997847  0.5002153 ]\n",
      " [0.49955213 0.50044787]\n",
      " [0.4997246  0.5002755 ]\n",
      " [0.49979267 0.50020725]\n",
      " [0.49976093 0.5002391 ]\n",
      " [0.4997143  0.50028574]\n",
      " [0.49975052 0.5002495 ]\n",
      " [0.4997416  0.5002584 ]\n",
      " [0.49972692 0.5002731 ]\n",
      " [0.49979264 0.5002073 ]\n",
      " [0.4996664  0.50033367]\n",
      " [0.49972302 0.500277  ]\n",
      " [0.49969986 0.5003001 ]\n",
      " [0.4997534  0.50024664]\n",
      " [0.4995996  0.50040036]\n",
      " [0.49971437 0.5002857 ]\n",
      " [0.49973387 0.50026613]\n",
      " [0.4997457  0.5002543 ]\n",
      " [0.4997958  0.50020415]\n",
      " [0.4998285  0.50017154]\n",
      " [0.49971512 0.50028485]\n",
      " [0.49972698 0.5002729 ]\n",
      " [0.49982342 0.50017655]\n",
      " [0.49975052 0.50024945]\n",
      " [0.4997259  0.5002742 ]\n",
      " [0.49972826 0.5002717 ]\n",
      " [0.49972224 0.5002778 ]\n",
      " [0.49971476 0.5002852 ]\n",
      " [0.49967998 0.50032   ]\n",
      " [0.4997768  0.5002232 ]\n",
      " [0.499756   0.500244  ]\n",
      " [0.4996857  0.5003143 ]\n",
      " [0.4997218  0.50027823]\n",
      " [0.49972308 0.500277  ]\n",
      " [0.49977475 0.50022525]]\n",
      "[0.6931193439280929, 0.69311935, 0.49758455]\n"
     ]
    }
   ],
   "source": [
    "example_batch = trainimages[::300]\n",
    "example_labels = trainlabels[::300]\n",
    "# example_radii = trainradii[:10]\n",
    "# example_theta = traintheta[:10]\n",
    "# example_z = trainz[:10]\n",
    "example_result = CNN.predict(x = example_batch)\n",
    "results = CNN.evaluate(x = example_batch, y = example_labels, verbose = 0)\n",
    "print(example_result)\n",
    "print(results)"
   ]
  },
  {
   "cell_type": "markdown",
   "metadata": {},
   "source": [
    "Now train! (warning: if building CNN, computer tends to get loud)"
   ]
  },
  {
   "cell_type": "code",
   "execution_count": null,
   "metadata": {
    "scrolled": true
   },
   "outputs": [],
   "source": [
    "checkpoint_path = \"model/CNN_images.h5\"\n",
    "if not os.path.exists(\"model\"):\n",
    "    os.mkdir(\"model\")\n",
    "\n",
    "# Create checkpoint callback\n",
    "# cp_callback = tf.keras.callbacks.ModelCheckpoint(checkpoint_path, \n",
    "#                                                  save_best_only=True,\n",
    "#                                                  verbose=1)\n",
    "model_checkpoint = keras.callbacks.ModelCheckpoint(checkpoint_path, monitor='val_loss', \n",
    "                                   verbose=1, save_best_only=True, \n",
    "                                   save_weights_only=False, mode='auto')    \n",
    "EPOCHS = 50\n",
    "early_stop = keras.callbacks.EarlyStopping(monitor='val_loss', patience=10)\n",
    "history = CNN.fit(\n",
    "  trainimages, trainlabels,\n",
    "  epochs=EPOCHS, validation_data = (valimages, vallabels), verbose = 0,\n",
    "  callbacks=[early_stop, model_checkpoint])"
   ]
  },
  {
   "cell_type": "markdown",
   "metadata": {},
   "source": [
    "Now make a plot that shows the pregression of accuracy through each training epoch."
   ]
  },
  {
   "cell_type": "code",
   "execution_count": 9,
   "metadata": {},
   "outputs": [],
   "source": [
    "# def plot_history(history):\n",
    "#   hist = pd.DataFrame(history.history)\n",
    "#   hist['epoch'] = history.epoch\n",
    "  \n",
    "#   plt.figure()\n",
    "#   plt.xlabel('Epoch')\n",
    "#   plt.ylabel('Mean Square Error')\n",
    "#   plt.plot(hist['epoch'], hist['binary'],\n",
    "#            label='Train Error')\n",
    "#   plt.plot(hist['epoch'], hist['val_mean_squared_error'],\n",
    "#            label = 'Val Error')\n",
    "#   plt.ylim([0,100])\n",
    "#   plt.legend()\n",
    "#   plt.show()\n",
    "\n",
    "# plot_history(history)"
   ]
  },
  {
   "cell_type": "markdown",
   "metadata": {},
   "source": [
    "Load best weights."
   ]
  },
  {
   "cell_type": "code",
   "execution_count": 65,
   "metadata": {},
   "outputs": [
    {
     "name": "stdout",
     "output_type": "stream",
     "text": [
      "CNN1D_2cat.h5  CNN1D_v3.h5\t    CNN_cat_multi_input.h5\n",
      "CNN1D.h5       CNN_1TeVpythia.h5    CNN_normedpythia.h5\n",
      "CNN1D_v2.h5    CNN_allTeVpythia.h5  CNN_pythia.h5\n",
      "Model: \"model_2\"\n",
      "_________________________________________________________________\n",
      "Layer (type)                 Output Shape              Param #   \n",
      "=================================================================\n",
      "input_3 (InputLayer)         [(None, 16, 16, 1)]       0         \n",
      "_________________________________________________________________\n",
      "conv2d_12 (Conv2D)           (None, 16, 16, 64)        9280      \n",
      "_________________________________________________________________\n",
      "conv2d_13 (Conv2D)           (None, 16, 16, 64)        147520    \n",
      "_________________________________________________________________\n",
      "conv2d_14 (Conv2D)           (None, 16, 16, 64)        65600     \n",
      "_________________________________________________________________\n",
      "max_pooling2d_4 (MaxPooling2 (None, 8, 8, 64)          0         \n",
      "_________________________________________________________________\n",
      "conv2d_15 (Conv2D)           (None, 8, 8, 32)          32800     \n",
      "_________________________________________________________________\n",
      "conv2d_16 (Conv2D)           (None, 8, 8, 32)          9248      \n",
      "_________________________________________________________________\n",
      "conv2d_17 (Conv2D)           (None, 8, 8, 32)          4128      \n",
      "_________________________________________________________________\n",
      "max_pooling2d_5 (MaxPooling2 (None, 4, 4, 32)          0         \n",
      "_________________________________________________________________\n",
      "flatten_2 (Flatten)          (None, 512)               0         \n",
      "_________________________________________________________________\n",
      "dense_8 (Dense)              (None, 64)                32832     \n",
      "_________________________________________________________________\n",
      "dense_9 (Dense)              (None, 256)               16640     \n",
      "_________________________________________________________________\n",
      "dense_10 (Dense)             (None, 256)               65792     \n",
      "_________________________________________________________________\n",
      "dense_11 (Dense)             (None, 2)                 514       \n",
      "=================================================================\n",
      "Total params: 384,354\n",
      "Trainable params: 384,354\n",
      "Non-trainable params: 0\n",
      "_________________________________________________________________\n",
      "[0.5177503368019059, 0.5177501, 0.75303924]\n"
     ]
    }
   ],
   "source": [
    "!ls model\n",
    "best_model = keras.models.load_model('model/CNN_normedpythia.h5')\n",
    "best_model.summary()\n",
    "results = best_model.evaluate(testimages, testlabels, verbose = 0)\n",
    "print(results)"
   ]
  },
  {
   "cell_type": "markdown",
   "metadata": {},
   "source": [
    "Evaluate the performance of our DNN! Plot predictions vs. true values (the line is predictions vs. predicitons)."
   ]
  },
  {
   "cell_type": "code",
   "execution_count": 66,
   "metadata": {},
   "outputs": [],
   "source": [
    "predict = best_model.predict(testimages)"
   ]
  },
  {
   "cell_type": "code",
   "execution_count": 68,
   "metadata": {},
   "outputs": [
    {
     "name": "stdout",
     "output_type": "stream",
     "text": [
      "[1. 1. 1. ... 0. 0. 0.]\n",
      "[0.69839704 0.80837226 0.8746229  ... 0.26622882 0.83603865 0.79028076]\n"
     ]
    },
    {
     "data": {
      "image/png": "[encoded data removed]",
      "text/plain": [
       "<Figure size 432x288 with 1 Axes>"
      ]
     },
     "metadata": {
      "needs_background": "light"
     },
     "output_type": "display_data"
    }
   ],
   "source": [
    "from sklearn.metrics import roc_curve, auc\n",
    "fpr, tpr, thresholds = roc_curve(testlabels[:,1], predict[:,1])\n",
    "roc_auc = auc(fpr, tpr)\n",
    "plt.plot(fpr, tpr, lw=2, color='b', label='auc = %.3f' % (roc_auc))\n",
    "plt.plot([0, 1], [0, 1], linestyle='--', lw=2, color='k', label='random chance')\n",
    "plt.xlim([0, 1.0])\n",
    "plt.ylim([0, 1.0])\n",
    "plt.xlabel('false positive rate')\n",
    "plt.ylabel('true positive rate')\n",
    "plt.title('receiver operating curve')\n",
    "plt.legend(loc=\"lower right\")\n",
    "plt.show()"
   ]
  },
  {
   "cell_type": "code",
   "execution_count": 69,
   "metadata": {},
   "outputs": [
    {
     "data": {
      "image/png": "[encoded data removed]",
      "text/plain": [
       "<Figure size 432x288 with 1 Axes>"
      ]
     },
     "metadata": {
      "needs_background": "light"
     },
     "output_type": "display_data"
    }
   ],
   "source": [
    "indqcd = np.argwhere(testlabels[:,1] == 0)\n",
    "ind1  = np.where(testlabels[:,1] == 1) \n",
    "# ind2  = np.where(testlabels[:,2] == 1)\n",
    "# ind3  = np.where(testlabels[:,3] == 1)\n",
    "hist_, bin_edges_ = np.histogram(predict[indqcd])\n",
    "plt.hist([predict[indqcd, 0].flatten(),predict[ind1, 1].flatten()] , histtype = 'step', label = ['qcd', 'ZZ'])\n",
    "plt.legend()\n",
    "plt.title('Predictions w/o normalized Pt')\n",
    "plt.yscale('log')\n",
    "plt.xlabel('Prediction (correct = 1)')\n",
    "plt.show()"
   ]
  },
  {
   "cell_type": "code",
   "execution_count": null,
   "metadata": {},
   "outputs": [],
   "source": []
  },
  {
   "cell_type": "code",
   "execution_count": null,
   "metadata": {},
   "outputs": [],
   "source": []
  }
 ],
 "metadata": {
  "kernelspec": {
   "display_name": "Python 3",
   "language": "python",
   "name": "python3"
  },
  "language_info": {
   "codemirror_mode": {
    "name": "ipython",
    "version": 3
   },
   "file_extension": ".py",
   "mimetype": "text/x-python",
   "name": "python",
   "nbconvert_exporter": "python",
   "pygments_lexer": "ipython3",
   "version": "3.6.8"
  }
 },
 "nbformat": 4,
 "nbformat_minor": 2
}
