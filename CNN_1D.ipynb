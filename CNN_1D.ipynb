{
 "cells": [
  {
   "cell_type": "code",
   "execution_count": 1,
   "metadata": {},
   "outputs": [
    {
     "name": "stdout",
     "output_type": "stream",
     "text": [
      "2.0.0\n"
     ]
    }
   ],
   "source": [
    "# TensorFlow and tf.keras\n",
    "\n",
    "import tensorflow as tf\n",
    "\n",
    "from tensorflow import keras\n",
    "from tensorflow.keras import layers\n",
    "from tensorflow.keras import models\n",
    "import tensorflow.keras.utils\n",
    "import pandas as pd\n",
    "\n",
    "# import keras\n",
    "# import keras.backend\n",
    "# from keras import layers\n",
    "# from keras import models\n",
    "# import keras.utils\n",
    "\n",
    "print(tf.__version__)\n",
    "\n",
    "# Helper libraries\n",
    "import numpy as np\n",
    "import matplotlib.pyplot as plt\n",
    "from matplotlib.colors import LogNorm\n",
    "import math\n",
    "import time\n",
    "import h5py\n",
    "import sklearn\n",
    "from sklearn.utils import shuffle\n",
    "\n",
    "import os"
   ]
  },
  {
   "cell_type": "code",
   "execution_count": 11,
   "metadata": {},
   "outputs": [
    {
     "name": "stdout",
     "output_type": "stream",
     "text": [
      "[[0. 1.]\n",
      " [0. 1.]\n",
      " [0. 1.]\n",
      " ...\n",
      " [1. 0.]\n",
      " [1. 0.]\n",
      " [1. 0.]]\n",
      "(49621, 2)\n",
      "(47768, 2)\n"
     ]
    }
   ],
   "source": [
    "data = np.load('/mnt/data/ml/Constituent4vecData_2cat.npz')\n",
    "evnum = data['jetconstEvnum']\n",
    "pt = data['jetconstPt']\n",
    "eta = data['jetconstEta']\n",
    "phi = data['jetconstPhi']\n",
    "labels = data['labels']\n",
    "pt = pt.reshape(336227, 20)\n",
    "eta = eta.reshape(336227, 20)\n",
    "phi = phi.reshape(336227, 20)\n",
    "labels = labels[::20]\n",
    "print(labels)\n",
    "fourvec = np.stack((pt,eta,phi), axis = -1)\n",
    "qcd_vec = fourvec[np.where(labels[:,0]==1)]\n",
    "qcd_lab = labels[np.where(labels[:,0]==1)]\n",
    "z_vec = fourvec[np.where(labels[:,1]==1)]\n",
    "z_lab = labels[np.where(labels[:,1]==1)]\n",
    "z_vec = z_vec[::6]\n",
    "z_lab = z_lab[::6]\n",
    "fourvec = np.vstack((qcd_vec, z_vec))\n",
    "fourvec = fourvec.reshape(len(fourvec), 20, 3)\n",
    "labels = np.vstack((qcd_lab, z_lab))\n",
    "labels = labels.reshape(len(labels), 2)\n",
    "print(qcd_lab.shape)\n",
    "print(z_lab.shape)\n",
    "#split data into testing/training/validation\n",
    "n_data = len(fourvec)\n",
    "testvec = fourvec[::4]\n",
    "testvec = testvec.reshape(len(testvec),20,3)\n",
    "testlabels = labels[::4].reshape((len(testvec)), 2)\n",
    "mask_vec = np.ones(fourvec.shape,dtype=bool)\n",
    "mask_vec[::4] = 0\n",
    "mask_vec[1::8] = 0\n",
    "mask_lab = np.ones(labels.shape,dtype=bool)\n",
    "mask_lab[::4] = 0\n",
    "mask_lab[1::8] = 0\n",
    "valvec = fourvec[1::8]\n",
    "valvec = fourvec[1::8].reshape(len(valvec),20,3)\n",
    "vallabels = labels[1::8].reshape((len(valvec)), 2)\n",
    "trainvec = fourvec[mask_vec].reshape((n_data-len(testvec)-len(valvec)),20,3)\n",
    "trainlabels = labels[mask_lab].reshape((n_data-len(testvec)-len(valvec)), 2)"
   ]
  },
  {
   "cell_type": "code",
   "execution_count": 3,
   "metadata": {},
   "outputs": [],
   "source": [
    "def build_model():\n",
    "    input1 = layers.Input(shape = (20,3))\n",
    "    x = layers.Conv1D(64, 3, padding = 'same', activation='relu')(input1)\n",
    "    x = layers.Conv1D(64, 1, padding = 'same', activation='relu')(x)\n",
    "    x = layers.MaxPool1D(2)(x)\n",
    "#     x = layers.Conv1D(32, 3, padding = 'same', activation='relu')(x)\n",
    "#     x = layers.Conv1D(32, 1, padding = 'same', activation='relu')(x)\n",
    "#     x = layers.MaxPool1D()(x)\n",
    "    x = layers.Flatten()(x)\n",
    "    x = layers.Dense(64, activation=tf.nn.relu)(x)\n",
    "#     x = layers.Dense(256, activation=tf.nn.relu)(x)\n",
    "#     x = layers.Dense(256, activation=tf.nn.relu)(x)\n",
    "    output = layers.Dense(2, activation=tf.nn.softmax)(x)\n",
    "    model = models.Model(inputs=input1, outputs=output)\n",
    "    model.compile(loss='categorical_crossentropy',\n",
    "                optimizer='adam',\n",
    "                metrics=['categorical_crossentropy', 'accuracy'])\n",
    "    return model"
   ]
  },
  {
   "cell_type": "code",
   "execution_count": 4,
   "metadata": {},
   "outputs": [],
   "source": [
    "CNN = build_model()"
   ]
  },
  {
   "cell_type": "code",
   "execution_count": 5,
   "metadata": {},
   "outputs": [
    {
     "name": "stdout",
     "output_type": "stream",
     "text": [
      "[[9.8821497e-01 1.1785027e-02]\n",
      " [9.8864996e-01 1.1349996e-02]\n",
      " [8.6033368e-01 1.3966635e-01]\n",
      " [9.9965596e-01 3.4407622e-04]\n",
      " [8.0168420e-01 1.9831578e-01]\n",
      " [9.0803659e-01 9.1963395e-02]\n",
      " [8.4325498e-01 1.5674503e-01]\n",
      " [9.9992919e-01 7.0856309e-05]\n",
      " [8.5872072e-01 1.4127931e-01]\n",
      " [8.0116516e-01 1.9883484e-01]]\n",
      "[0.10361166298389435, 0.10361166, 1.0]\n"
     ]
    }
   ],
   "source": [
    "example_batch = trainvec[:10]\n",
    "example_labels = trainlabels[:10]\n",
    "example_result = CNN.predict(x = example_batch)\n",
    "results = CNN.evaluate(x = example_batch, y = example_labels, verbose = 0)\n",
    "print(example_result)\n",
    "print(results)"
   ]
  },
  {
   "cell_type": "code",
   "execution_count": 6,
   "metadata": {},
   "outputs": [
    {
     "name": "stdout",
     "output_type": "stream",
     "text": [
      "\n",
      "Epoch 00001: val_loss improved from inf to 0.59789, saving model to model/CNN1D_2cat.h5\n",
      "\n",
      "Epoch 00002: val_loss improved from 0.59789 to 0.58697, saving model to model/CNN1D_2cat.h5\n",
      "\n",
      "Epoch 00003: val_loss did not improve from 0.58697\n",
      "\n",
      "Epoch 00004: val_loss did not improve from 0.58697\n",
      "\n",
      "Epoch 00005: val_loss improved from 0.58697 to 0.58114, saving model to model/CNN1D_2cat.h5\n",
      "\n",
      "Epoch 00006: val_loss improved from 0.58114 to 0.57753, saving model to model/CNN1D_2cat.h5\n",
      "\n",
      "Epoch 00007: val_loss improved from 0.57753 to 0.57660, saving model to model/CNN1D_2cat.h5\n",
      "\n",
      "Epoch 00008: val_loss did not improve from 0.57660\n",
      "\n",
      "Epoch 00009: val_loss improved from 0.57660 to 0.56103, saving model to model/CNN1D_2cat.h5\n",
      "\n",
      "Epoch 00010: val_loss improved from 0.56103 to 0.54102, saving model to model/CNN1D_2cat.h5\n",
      "\n",
      "Epoch 00011: val_loss improved from 0.54102 to 0.53760, saving model to model/CNN1D_2cat.h5\n",
      "\n",
      "Epoch 00012: val_loss improved from 0.53760 to 0.49902, saving model to model/CNN1D_2cat.h5\n",
      "\n",
      "Epoch 00013: val_loss improved from 0.49902 to 0.49045, saving model to model/CNN1D_2cat.h5\n",
      "\n",
      "Epoch 00014: val_loss did not improve from 0.49045\n",
      "\n",
      "Epoch 00015: val_loss improved from 0.49045 to 0.48256, saving model to model/CNN1D_2cat.h5\n",
      "\n",
      "Epoch 00016: val_loss did not improve from 0.48256\n",
      "\n",
      "Epoch 00017: val_loss improved from 0.48256 to 0.47115, saving model to model/CNN1D_2cat.h5\n",
      "\n",
      "Epoch 00018: val_loss improved from 0.47115 to 0.46994, saving model to model/CNN1D_2cat.h5\n",
      "\n",
      "Epoch 00019: val_loss did not improve from 0.46994\n",
      "\n",
      "Epoch 00020: val_loss did not improve from 0.46994\n",
      "\n",
      "Epoch 00021: val_loss did not improve from 0.46994\n",
      "\n",
      "Epoch 00022: val_loss improved from 0.46994 to 0.46804, saving model to model/CNN1D_2cat.h5\n",
      "\n",
      "Epoch 00023: val_loss improved from 0.46804 to 0.46564, saving model to model/CNN1D_2cat.h5\n",
      "\n",
      "Epoch 00024: val_loss improved from 0.46564 to 0.46418, saving model to model/CNN1D_2cat.h5\n",
      "\n",
      "Epoch 00025: val_loss did not improve from 0.46418\n",
      "\n",
      "Epoch 00026: val_loss did not improve from 0.46418\n",
      "\n",
      "Epoch 00027: val_loss did not improve from 0.46418\n",
      "\n",
      "Epoch 00028: val_loss did not improve from 0.46418\n",
      "\n",
      "Epoch 00029: val_loss did not improve from 0.46418\n",
      "\n",
      "Epoch 00030: val_loss did not improve from 0.46418\n",
      "\n",
      "Epoch 00031: val_loss did not improve from 0.46418\n",
      "\n",
      "Epoch 00032: val_loss did not improve from 0.46418\n",
      "\n",
      "Epoch 00033: val_loss did not improve from 0.46418\n",
      "\n",
      "Epoch 00034: val_loss did not improve from 0.46418\n"
     ]
    }
   ],
   "source": [
    "checkpoint_path = \"model/CNN1D_2cat.h5\"\n",
    "if not os.path.exists(\"model\"):\n",
    "    os.mkdir(\"model\")\n",
    "\n",
    "# Create checkpoint callback\n",
    "# cp_callback = tf.keras.callbacks.ModelCheckpoint(checkpoint_path, \n",
    "#                                                  save_best_only=True,\n",
    "#                                                  verbose=1)\n",
    "model_checkpoint = keras.callbacks.ModelCheckpoint(checkpoint_path, monitor='val_loss', \n",
    "                                   verbose=1, save_best_only=True, \n",
    "                                   save_weights_only=False, mode='auto')    \n",
    "EPOCHS = 50\n",
    "early_stop = keras.callbacks.EarlyStopping(monitor='val_loss', patience=10)\n",
    "history = CNN.fit(\n",
    "  trainvec, trainlabels,\n",
    "  epochs=EPOCHS, validation_data = (valvec, vallabels), verbose = 0,\n",
    "  callbacks=[early_stop, model_checkpoint])"
   ]
  },
  {
   "cell_type": "code",
   "execution_count": 7,
   "metadata": {},
   "outputs": [
    {
     "name": "stdout",
     "output_type": "stream",
     "text": [
      "CNN1D_2cat.h5  CNN1D_v3.h5\t    CNN_cat_multi_input.h5\n",
      "CNN1D.h5       CNN_1TeVpythia.h5    CNN_normedpythia.h5\n",
      "CNN1D_v2.h5    CNN_allTeVpythia.h5  CNN_pythia.h5\n",
      "Model: \"model\"\n",
      "_________________________________________________________________\n",
      "Layer (type)                 Output Shape              Param #   \n",
      "=================================================================\n",
      "input_1 (InputLayer)         [(None, 20, 3)]           0         \n",
      "_________________________________________________________________\n",
      "conv1d (Conv1D)              (None, 20, 64)            640       \n",
      "_________________________________________________________________\n",
      "conv1d_1 (Conv1D)            (None, 20, 64)            4160      \n",
      "_________________________________________________________________\n",
      "max_pooling1d (MaxPooling1D) (None, 10, 64)            0         \n",
      "_________________________________________________________________\n",
      "flatten (Flatten)            (None, 640)               0         \n",
      "_________________________________________________________________\n",
      "dense (Dense)                (None, 64)                41024     \n",
      "_________________________________________________________________\n",
      "dense_1 (Dense)              (None, 2)                 130       \n",
      "=================================================================\n",
      "Total params: 45,954\n",
      "Trainable params: 45,954\n",
      "Non-trainable params: 0\n",
      "_________________________________________________________________\n",
      "[0.4632991299422402, 0.46329898, 0.7948086]\n"
     ]
    }
   ],
   "source": [
    "!ls model\n",
    "best_model = keras.models.load_model('model/CNN1D_2cat.h5')\n",
    "best_model.summary()\n",
    "results = best_model.evaluate(testvec, testlabels, verbose = 0)\n",
    "print(results)"
   ]
  },
  {
   "cell_type": "code",
   "execution_count": 8,
   "metadata": {},
   "outputs": [],
   "source": [
    "predict = best_model.predict(testvec)"
   ]
  },
  {
   "cell_type": "code",
   "execution_count": 9,
   "metadata": {},
   "outputs": [
    {
     "data": {
      "image/png": "[encoded data removed]",
      "text/plain": [
       "<Figure size 432x288 with 1 Axes>"
      ]
     },
     "metadata": {
      "needs_background": "light"
     },
     "output_type": "display_data"
    }
   ],
   "source": [
    "from sklearn.metrics import roc_curve, auc\n",
    "fpr, tpr, thresholds = roc_curve(testlabels[:,1], predict[:,1])\n",
    "roc_auc = auc(fpr, tpr)\n",
    "plt.plot(fpr, tpr, lw=2, color='b', label='auc = %.3f' % (roc_auc))\n",
    "plt.plot([0, 1], [0, 1], linestyle='--', lw=2, color='k', label='random chance')\n",
    "plt.xlim([0, 1.0])\n",
    "plt.ylim([0, 1.0])\n",
    "plt.xlabel('false positive rate')\n",
    "plt.ylabel('true positive rate')\n",
    "plt.title('receiver operating curve')\n",
    "plt.legend(loc=\"lower right\")\n",
    "plt.show()"
   ]
  },
  {
   "cell_type": "code",
   "execution_count": 14,
   "metadata": {},
   "outputs": [
    {
     "data": {
      "image/png": "[encoded data removed]",
      "text/plain": [
       "<Figure size 432x288 with 1 Axes>"
      ]
     },
     "metadata": {
      "needs_background": "light"
     },
     "output_type": "display_data"
    }
   ],
   "source": [
    "indqcd = np.argwhere(testlabels[:,0] ==1)\n",
    "ind1  = np.argwhere(testlabels[:,1] == 1) \n",
    "# ind2  = np.where(testlabels[:,2] == 1)\n",
    "# ind3  = np.where(testlabels[:,3] == 1)\n",
    "hist_, bin_edges_ = np.histogram(predict[indqcd])\n",
    "plt.hist([predict[indqcd, 0].flatten(),predict[ind1, 1].flatten()], histtype = 'step', label = ['qcd', 'ZZ'])\n",
    "plt.legend()\n",
    "plt.title('Predictions w/ normalized Pt')\n",
    "# plt.yscale('log')\n",
    "plt.xlabel('Prediction (correct = 1)')\n",
    "plt.show()"
   ]
  },
  {
   "cell_type": "code",
   "execution_count": null,
   "metadata": {},
   "outputs": [],
   "source": []
  },
  {
   "cell_type": "code",
   "execution_count": null,
   "metadata": {},
   "outputs": [],
   "source": []
  }
 ],
 "metadata": {
  "kernelspec": {
   "display_name": "Python 3",
   "language": "python",
   "name": "python3"
  },
  "language_info": {
   "codemirror_mode": {
    "name": "ipython",
    "version": 3
   },
   "file_extension": ".py",
   "mimetype": "text/x-python",
   "name": "python",
   "nbconvert_exporter": "python",
   "pygments_lexer": "ipython3",
   "version": "3.6.8"
  }
 },
 "nbformat": 4,
 "nbformat_minor": 2
}
