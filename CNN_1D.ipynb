{
 "cells": [
  {
   "cell_type": "code",
   "execution_count": 1,
   "metadata": {},
   "outputs": [
    {
     "name": "stderr",
     "output_type": "stream",
     "text": [
      "Using TensorFlow backend.\n",
      "/opt/conda/lib/python3.7/site-packages/tensorflow/python/framework/dtypes.py:526: FutureWarning: Passing (type, 1) or '1type' as a synonym of type is deprecated; in a future version of numpy, it will be understood as (type, (1,)) / '(1,)type'.\n",
      "  _np_qint8 = np.dtype([(\"qint8\", np.int8, 1)])\n",
      "/opt/conda/lib/python3.7/site-packages/tensorflow/python/framework/dtypes.py:527: FutureWarning: Passing (type, 1) or '1type' as a synonym of type is deprecated; in a future version of numpy, it will be understood as (type, (1,)) / '(1,)type'.\n",
      "  _np_quint8 = np.dtype([(\"quint8\", np.uint8, 1)])\n",
      "/opt/conda/lib/python3.7/site-packages/tensorflow/python/framework/dtypes.py:528: FutureWarning: Passing (type, 1) or '1type' as a synonym of type is deprecated; in a future version of numpy, it will be understood as (type, (1,)) / '(1,)type'.\n",
      "  _np_qint16 = np.dtype([(\"qint16\", np.int16, 1)])\n",
      "/opt/conda/lib/python3.7/site-packages/tensorflow/python/framework/dtypes.py:529: FutureWarning: Passing (type, 1) or '1type' as a synonym of type is deprecated; in a future version of numpy, it will be understood as (type, (1,)) / '(1,)type'.\n",
      "  _np_quint16 = np.dtype([(\"quint16\", np.uint16, 1)])\n",
      "/opt/conda/lib/python3.7/site-packages/tensorflow/python/framework/dtypes.py:530: FutureWarning: Passing (type, 1) or '1type' as a synonym of type is deprecated; in a future version of numpy, it will be understood as (type, (1,)) / '(1,)type'.\n",
      "  _np_qint32 = np.dtype([(\"qint32\", np.int32, 1)])\n",
      "/opt/conda/lib/python3.7/site-packages/tensorflow/python/framework/dtypes.py:535: FutureWarning: Passing (type, 1) or '1type' as a synonym of type is deprecated; in a future version of numpy, it will be understood as (type, (1,)) / '(1,)type'.\n",
      "  np_resource = np.dtype([(\"resource\", np.ubyte, 1)])\n"
     ]
    }
   ],
   "source": [
    "# TensorFlow and tf.keras\n",
    "\n",
    "# import tensorflow as tf\n",
    "\n",
    "# from tensorflow import keras\n",
    "# from tensorflow.keras import layers\n",
    "# from tensorflow.keras import models\n",
    "# import tensorflow.keras.utils\n",
    "import pandas as pd\n",
    "\n",
    "import keras\n",
    "import keras.backend\n",
    "from keras import layers\n",
    "from keras import models\n",
    "import keras.utils\n",
    "\n",
    "\n",
    "# Helper libraries\n",
    "import numpy as np\n",
    "import matplotlib.pyplot as plt\n",
    "from matplotlib.colors import LogNorm\n",
    "import math\n",
    "import time\n",
    "import h5py\n",
    "import sklearn\n",
    "from sklearn.utils import shuffle\n",
    "\n",
    "import os"
   ]
  },
  {
   "cell_type": "code",
   "execution_count": 2,
   "metadata": {},
   "outputs": [
    {
     "name": "stdout",
     "output_type": "stream",
     "text": [
      "16540 16540 16540 49620\n",
      "99240 99240\n"
     ]
    }
   ],
   "source": [
    "data = np.load('/mnt/data/ml/Constituent4vecData1.npz')\n",
    "evnum = data['jetconstEvnum']\n",
    "pt = data['jetconstPt']\n",
    "eta = data['jetconstEta']\n",
    "phi = data['jetconstPhi']\n",
    "labels = data['labels']\n",
    "pt = pt.reshape(336227, 20)\n",
    "eta = eta.reshape(336227, 20)\n",
    "phi = phi.reshape(336227, 20)\n",
    "labels = labels[::20]\n",
    "fourvec = np.stack((pt,eta,phi), axis = -1)\n",
    "#ensure same number of signal vs. background and even split of z events\n",
    "qcd_vec = fourvec[np.where(labels[:,0] == 1)]\n",
    "if len(qcd_vec) % 3 != 0:\n",
    "    qcd_vec = qcd_vec[:len(qcd_vec)-(len(qcd_vec) % 3)]\n",
    "z1_vec = fourvec[np.where(labels[:,1] == 1)]\n",
    "z1_vec = z1_vec[:int(len(qcd_vec)/3)]\n",
    "z2_vec = fourvec[np.where(labels[:,2] == 1)]\n",
    "z2_vec = z2_vec[:int(len(qcd_vec)/3)]\n",
    "z3_vec = fourvec[np.where(labels[:,3] == 1)]\n",
    "z3_vec = z3_vec[:int(len(qcd_vec)/3)]\n",
    "qcd_lab = np.zeros([len(qcd_vec), 2])\n",
    "qcd_lab[:,0] = 1\n",
    "z_lab = np.zeros([len(qcd_vec), 2])\n",
    "z_lab[:,1] = 1\n",
    "fourvec = np.vstack((qcd_vec, z1_vec, z2_vec, z3_vec))\n",
    "labels = np.vstack((qcd_lab, z_lab))\n",
    "print(len(labels), len(fourvec))\n",
    "#split data into testing/training/validation\n",
    "n_data = len(fourvec)\n",
    "testvec = fourvec[::4]\n",
    "testlabels = labels[::4]\n",
    "mask_vec = np.ones(fourvec.shape,dtype=bool)\n",
    "mask_vec[::4] = 0\n",
    "mask_vec[1::8] = 0\n",
    "mask_lab = np.ones(labels.shape,dtype=bool)\n",
    "mask_lab[::4] = 0\n",
    "mask_lab[1::8] = 0\n",
    "valvec = fourvec[1::8]\n",
    "vallabels = labels[1::8]\n",
    "trainvec = fourvec[mask_vec].reshape((n_data-len(testvec)-len(valvec)),20,3)\n",
    "trainlabels = labels[mask_lab].reshape((n_data-len(testvec)-len(valvec)), 2)"
   ]
  },
  {
   "cell_type": "code",
   "execution_count": 5,
   "metadata": {},
   "outputs": [],
   "source": [
    "def build_model():\n",
    "    input1 = layers.Input(shape = (20,3))\n",
    "    x = layers.Conv1D(64, 3, padding = 'same', activation='relu')(input1)\n",
    "    x = layers.Conv1D(64, 1, padding = 'same', activation='relu')(x)\n",
    "    x = layers.MaxPool1D(2)(x)\n",
    "    x = layers.Conv1D(32, 3, padding = 'same', activation='relu')(x)\n",
    "    x = layers.Conv1D(32, 1, padding = 'same', activation='relu')(x)\n",
    "    x = layers.MaxPool1D()(x)\n",
    "    x = layers.Flatten()(x)\n",
    "    x = layers.Dense(64, activation='relu')(x)\n",
    "#     x = layers.Dense(256, activation=tf.nn.relu)(x)\n",
    "#     x = layers.Dense(256, activation=tf.nn.relu)(x)\n",
    "    output = layers.Dense(2, activation='softmax')(x)\n",
    "    model = models.Model(inputs=input1, outputs=output)\n",
    "    model.compile(loss='categorical_crossentropy',\n",
    "                optimizer='adam',\n",
    "                metrics=['categorical_crossentropy', 'accuracy'])\n",
    "    return model"
   ]
  },
  {
   "cell_type": "code",
   "execution_count": 6,
   "metadata": {},
   "outputs": [],
   "source": [
    "CNN = build_model()"
   ]
  },
  {
   "cell_type": "code",
   "execution_count": 7,
   "metadata": {},
   "outputs": [
    {
     "name": "stdout",
     "output_type": "stream",
     "text": [
      "[[8.3337285e-02 9.1666275e-01]\n",
      " [1.3237699e-02 9.8676223e-01]\n",
      " [8.6547337e-02 9.1345263e-01]\n",
      " [4.7100868e-04 9.9952900e-01]\n",
      " [1.0208128e-01 8.9791870e-01]\n",
      " [6.2867709e-02 9.3713224e-01]\n",
      " [1.5991372e-01 8.4008634e-01]\n",
      " [2.9329257e-04 9.9970669e-01]\n",
      " [1.9772264e-01 8.0227733e-01]\n",
      " [1.5472368e-02 9.8452765e-01]]\n",
      "[3.7723002433776855, 3.7723002433776855, 0.0]\n"
     ]
    }
   ],
   "source": [
    "example_batch = trainvec[:10]\n",
    "example_labels = trainlabels[:10]\n",
    "example_result = CNN.predict(x = example_batch)\n",
    "results = CNN.evaluate(x = example_batch, y = example_labels, verbose = 0)\n",
    "print(example_result)\n",
    "print(results)"
   ]
  },
  {
   "cell_type": "code",
   "execution_count": null,
   "metadata": {},
   "outputs": [
    {
     "name": "stdout",
     "output_type": "stream",
     "text": [
      "WARNING:tensorflow:From /opt/conda/lib/python3.7/site-packages/tensorflow/python/ops/math_ops.py:3066: to_int32 (from tensorflow.python.ops.math_ops) is deprecated and will be removed in a future version.\n",
      "Instructions for updating:\n",
      "Use tf.cast instead.\n",
      "\n",
      "Epoch 00001: val_loss improved from inf to 0.59749, saving model to model/CNN1D_v3.h5\n"
     ]
    }
   ],
   "source": [
    "checkpoint_path = \"model/CNN1D_v3.h5\"\n",
    "if not os.path.exists(\"model\"):\n",
    "    os.mkdir(\"model\")\n",
    "\n",
    "# Create checkpoint callback\n",
    "# cp_callback = tf.keras.callbacks.ModelCheckpoint(checkpoint_path, \n",
    "#                                                  save_best_only=True,\n",
    "#                                                  verbose=1)\n",
    "model_checkpoint = keras.callbacks.ModelCheckpoint(checkpoint_path, monitor='val_loss', \n",
    "                                   verbose=1, save_best_only=True, \n",
    "                                   save_weights_only=False, mode='auto')    \n",
    "EPOCHS = 50\n",
    "early_stop = keras.callbacks.EarlyStopping(monitor='val_loss', patience=10)\n",
    "history = CNN.fit(\n",
    "  trainvec, trainlabels,\n",
    "  epochs=EPOCHS, validation_data = (valvec, vallabels), verbose = 0,\n",
    "  callbacks=[early_stop, model_checkpoint])"
   ]
  },
  {
   "cell_type": "code",
   "execution_count": null,
   "metadata": {},
   "outputs": [],
   "source": [
    "!ls model\n",
    "best_model = keras.models.load_model('model/CNN1D_v3.h5')\n",
    "best_model.summary()\n",
    "results = best_model.evaluate(testvec, testlabels, verbose = 0)\n",
    "print(results)"
   ]
  },
  {
   "cell_type": "code",
   "execution_count": null,
   "metadata": {},
   "outputs": [],
   "source": [
    "predict = best_model.predict(testvec)"
   ]
  },
  {
   "cell_type": "code",
   "execution_count": null,
   "metadata": {},
   "outputs": [],
   "source": [
    "from sklearn.metrics import roc_curve, auc\n",
    "fpr, tpr, thresholds = roc_curve(testlabels[:,1], predict[:,1])\n",
    "roc_auc = auc(fpr, tpr)\n",
    "plt.plot(fpr, tpr, lw=2, color='b', label='auc = %.3f' % (roc_auc))\n",
    "plt.plot([0, 1], [0, 1], linestyle='--', lw=2, color='k', label='random chance')\n",
    "plt.xlim([0, 1.0])\n",
    "plt.ylim([0, 1.0])\n",
    "plt.xlabel('false positive rate')\n",
    "plt.ylabel('true positive rate')\n",
    "plt.title('receiver operating curve')\n",
    "plt.legend(loc=\"lower right\")\n",
    "plt.show()"
   ]
  },
  {
   "cell_type": "code",
   "execution_count": null,
   "metadata": {},
   "outputs": [],
   "source": [
    "indqcd = np.argwhere(testlabels[:,0] == 1)\n",
    "indz  = np.argwhere(testlabels[:,1] == 1) \n",
    "hist_, bin_edges_ = np.histogram(predict[indqcd])\n",
    "plt.hist([predict[indqcd, 0].flatten(),predict[indz, 1].flatten()], histtype = 'step', label = ['qcd', 'ZZ'])\n",
    "plt.legend()\n",
    "plt.title('Predictions w/ normalized Pt')\n",
    "plt.yscale('log')\n",
    "plt.xlabel('Prediction (correct = 1)')\n",
    "plt.show()"
   ]
  },
  {
   "cell_type": "code",
   "execution_count": null,
   "metadata": {},
   "outputs": [],
   "source": []
  },
  {
   "cell_type": "code",
   "execution_count": null,
   "metadata": {},
   "outputs": [],
   "source": []
  }
 ],
 "metadata": {
  "kernelspec": {
   "display_name": "Python 3",
   "language": "python",
   "name": "python3"
  },
  "language_info": {
   "codemirror_mode": {
    "name": "ipython",
    "version": 3
   },
   "file_extension": ".py",
   "mimetype": "text/x-python",
   "name": "python",
   "nbconvert_exporter": "python",
   "pygments_lexer": "ipython3",
   "version": "3.7.3"
  }
 },
 "nbformat": 4,
 "nbformat_minor": 2
}
